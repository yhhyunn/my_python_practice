{
 "metadata": {
  "language_info": {
   "codemirror_mode": {
    "name": "ipython",
    "version": 3
   },
   "file_extension": ".py",
   "mimetype": "text/x-python",
   "name": "python",
   "nbconvert_exporter": "python",
   "pygments_lexer": "ipython3",
   "version": "3.7.7-final"
  },
  "orig_nbformat": 2,
  "kernelspec": {
   "name": "python_defaultSpec_1597485381596",
   "display_name": "Python 3.7.7 64-bit (conda)"
  }
 },
 "nbformat": 4,
 "nbformat_minor": 2,
 "cells": [
  {
   "cell_type": "markdown",
   "metadata": {},
   "source": [
    "# Runtime Calculation"
   ]
  },
  {
   "cell_type": "code",
   "execution_count": 21,
   "metadata": {
    "tags": []
   },
   "outputs": [
    {
     "output_type": "execute_result",
     "data": {
      "text/plain": "<function runtime_test.log(s, elapsed=None)>"
     },
     "metadata": {},
     "execution_count": 21
    }
   ],
   "source": [
    "import os\n",
    "import sys\n",
    "#from runtime_test import *\n",
    "import runtime_test\n",
    "\n",
    "#print(secondsToStr)\n",
    "#print(log(\"start program\"))\n",
    "#print(endlog)\n",
    "\n",
    "#for i in range(10):\n",
    "#    print(f\"test{i}\")"
   ]
  }
 ]
}